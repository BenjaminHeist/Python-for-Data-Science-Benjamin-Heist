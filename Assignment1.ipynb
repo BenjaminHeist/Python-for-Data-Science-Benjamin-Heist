{
 "cells": [
  {
   "cell_type": "code",
   "execution_count": null,
   "metadata": {},
   "outputs": [],
   "source": [
    "Exercise 1: Print a Greeting\n",
    "● Write a Python program that prints a greeting message, such as \"Hello, Python!\"."
   ]
  },
  {
   "cell_type": "code",
   "execution_count": null,
   "metadata": {},
   "outputs": [],
   "source": [
    "print(\"Hello, Python!\")"
   ]
  },
  {
   "cell_type": "code",
   "execution_count": null,
   "metadata": {},
   "outputs": [],
   "source": [
    "Exercise 2: Basic Arithmetic\n",
    "● Create a program that:\n",
    "○ Defines two variables, a and b, with numerical values.\n",
    "○ Prints their sum, difference, product, and quotient."
   ]
  },
  {
   "cell_type": "code",
   "execution_count": null,
   "metadata": {},
   "outputs": [],
   "source": [
    "a = 5 \n",
    "b = 100\n",
    "print(a+b)\n",
    "print(a-b)\n",
    "print(a*b)\n",
    "print(a/b)"
   ]
  },
  {
   "cell_type": "code",
   "execution_count": null,
   "metadata": {},
   "outputs": [],
   "source": [
    "Exercise 3: String Manipulation\n",
    "● Define a variable name and assign it your name. Write a program that prints a message saying\n",
    "\"Hello, [name]!\" where [name] is the value of the variable."
   ]
  },
  {
   "cell_type": "code",
   "execution_count": null,
   "metadata": {},
   "outputs": [],
   "source": [
    "name = \"Benny\"\n",
    "print (f\"Hello, {name}!\")"
   ]
  },
  {
   "cell_type": "code",
   "execution_count": null,
   "metadata": {},
   "outputs": [],
   "source": [
    "Exercise 4: Lists\n",
    "● Create a list called universities with at least five different university names.\n",
    "● Print the entire list.\n",
    "● Print the first and last university in the list."
   ]
  },
  {
   "cell_type": "code",
   "execution_count": null,
   "metadata": {},
   "outputs": [],
   "source": [
    "universities = ['HSG','FS','WHU','TUM','LMU']\n",
    "type(universities)\n",
    "print(universities)\n",
    "print(universities[0])\n",
    "print(universities[-1])"
   ]
  },
  {
   "cell_type": "code",
   "execution_count": null,
   "metadata": {},
   "outputs": [],
   "source": [
    "Exercise 5: Dictionaries\n",
    "● Create a dictionary called student with keys: name, age, and grade, and assign appropriate values to each key.\n",
    "● Write a program that prints each key-value pair in the dictionary."
   ]
  },
  {
   "cell_type": "code",
   "execution_count": null,
   "metadata": {},
   "outputs": [],
   "source": [
    "student = {'Name': 'Benny','Age': 23,'Grade': 10}\n",
    "for key,value in student.items():\n",
    "    print (f\"{key}:{value}\")\n",
    "    "
   ]
  },
  {
   "cell_type": "code",
   "execution_count": null,
   "metadata": {},
   "outputs": [],
   "source": [
    "Exercise 6: Tuples\n",
    "● Define a tuple called coordinates with two values representing a point in 2D space (e.g., (x, y)).\n",
    "● Print the value of coordinates and access each element by its index."
   ]
  },
  {
   "cell_type": "code",
   "execution_count": null,
   "metadata": {},
   "outputs": [],
   "source": [
    "coordinates = (112,273)\n",
    "print(coordinates)\n",
    "print(coordinates[0])\n",
    "print(coordinates[-1])"
   ]
  },
  {
   "cell_type": "code",
   "execution_count": null,
   "metadata": {},
   "outputs": [],
   "source": [
    "Exercise 7: Sets\n",
    "● Create a set called colors with the values: \"red\", \"green\", \"blue\".\n",
    "● Add another color to the set.\n",
    "● Try adding a duplicate color and observe what happens.\n",
    "● Print the set and remove one color from it.\n",
    "● Create another set named light_colors and merge colors and light_colors."
   ]
  },
  {
   "cell_type": "code",
   "execution_count": null,
   "metadata": {},
   "outputs": [],
   "source": [
    "colors =  {'red','green','blue'}\n",
    "colors.add('yellow')\n",
    "colors.add('red')\n",
    "#nothing happens if red is added again\n",
    "print(colors)\n",
    "colors.remove('yellow')\n",
    "\n",
    "light_colors = {'purple','rosa'}\n",
    "merged_colors = colors.union(light_colors) \n",
    "print(merged_colors)"
   ]
  },
  {
   "cell_type": "code",
   "execution_count": null,
   "metadata": {},
   "outputs": [],
   "source": [
    "Exercise 8: Conditional Statements\n",
    "● Write a program that:\n",
    "○ Takes an input number from the user.\n",
    "○ Checks if the number is positive, negative, or zero.\n",
    "○ Prints an appropriate message based on the result."
   ]
  },
  {
   "cell_type": "code",
   "execution_count": null,
   "metadata": {},
   "outputs": [],
   "source": [
    "x = int(input(\"Enter a number :\"))\n",
    "if x % 2 ==0 : \n",
    "    print(\"the number is even\")\n",
    "elif x ==0: \n",
    "    print(\"the number is 0\")\n",
    "else: \n",
    "    print(\"the number is odd\")    "
   ]
  },
  {
   "cell_type": "code",
   "execution_count": null,
   "metadata": {},
   "outputs": [],
   "source": [
    "Exercise 9: For Loop\n",
    "● Create a list of numbers from 1 to 5.\n",
    "● Use a for loop to iterate through the list and print each number."
   ]
  },
  {
   "cell_type": "code",
   "execution_count": null,
   "metadata": {},
   "outputs": [],
   "source": [
    "list=[]\n",
    "for i in range (1,6):\n",
    "    list.append(i)\n",
    "\n",
    "for i in list:\n",
    "    print(i)"
   ]
  },
  {
   "cell_type": "code",
   "execution_count": null,
   "metadata": {},
   "outputs": [],
   "source": [
    "Exercise 10: While Loop\n",
    "● Write a program that uses a while loop to print numbers from 1 to 5.\n",
    "● Ensure the loop terminates correctly."
   ]
  },
  {
   "cell_type": "code",
   "execution_count": null,
   "metadata": {},
   "outputs": [],
   "source": [
    "x=1\n",
    "while x<6:\n",
    "    print (x)\n",
    "    x=x+1"
   ]
  },
  {
   "cell_type": "code",
   "execution_count": null,
   "metadata": {},
   "outputs": [],
   "source": [
    "Exercise 11: Match Statement (Python 3.10+)\n",
    "● Write a program that:\n",
    "○ Asks the user to input a grade (e.g., \"A\", \"B\", \"C\", \"D\", or \"F\").\n",
    "○ Use a match statement to print a corresponding message for each grade:\n",
    "■ \"A\": \"Excellent!\"\n",
    "■ \"B\": \"Good job!\"\n",
    "■ \"C\": \"Fair.\"\n",
    "■ \"D\": \"Needs improvement.\"\n",
    "■ \"F\": \"Failing.\"\n",
    "○ Handle invalid input by printing a default message."
   ]
  },
  {
   "cell_type": "code",
   "execution_count": null,
   "metadata": {},
   "outputs": [],
   "source": [
    "grade = input ('Please enter your grade (A, B, C, D or F): ')\n",
    "\n",
    "match grade:\n",
    "    case 'A':\n",
    "        print ('Excellent!')\n",
    "    case 'B':\n",
    "        print ('Good job!')\n",
    "    case 'C':\n",
    "        print ('Fair.')\n",
    "    case 'D':\n",
    "        print ('Needs improvement.')\n",
    "    case 'F':\n",
    "        print ('Failing.')\n",
    "    case _:\n",
    "        print ('Invalid grade entered. Please enter A, B, C, D, or F.')"
   ]
  },
  {
   "cell_type": "code",
   "execution_count": null,
   "metadata": {},
   "outputs": [],
   "source": [
    "Exercise 12: Define a Function\n",
    "● Write a function called greet that takes a name as an argument and prints \"Hello, [name]!\".\n",
    "● Call the function with your own name."
   ]
  },
  {
   "cell_type": "code",
   "execution_count": null,
   "metadata": {},
   "outputs": [],
   "source": [
    "def greet (name):\n",
    "    print(\"Hello, \" , name)\n",
    "    \n",
    "greet(\"Benny\")"
   ]
  },
  {
   "cell_type": "code",
   "execution_count": null,
   "metadata": {},
   "outputs": [],
   "source": [
    "Exercise 13: Function with Return Value\n",
    "● Define a function called square that takes a number as an argument and returns its square.\n",
    "● Print the result of calling this function with different numbers."
   ]
  },
  {
   "cell_type": "code",
   "execution_count": null,
   "metadata": {},
   "outputs": [],
   "source": [
    "def square (number):\n",
    "    return number**2\n",
    "\n",
    "print(square(7))\n",
    "print(square(12))\n",
    "print(square(77))\n",
    "print(square(100))\n",
    "\n"
   ]
  },
  {
   "cell_type": "code",
   "execution_count": null,
   "metadata": {},
   "outputs": [],
   "source": [
    "Exercise 14: Function with Default Parameters\n",
    "● Write a function called multiply that takes two parameters, a and b, and returns their product. \n",
    "Set a default value of 1 for the parameter b.\n",
    "● Test the function with and without providing the second argument."
   ]
  },
  {
   "cell_type": "code",
   "execution_count": null,
   "metadata": {},
   "outputs": [],
   "source": [
    "def multiply(a,b=1): \n",
    "    return a*b\n",
    "\n",
    "print(multiply(20,10))\n",
    "print(multiply(20))"
   ]
  },
  {
   "cell_type": "code",
   "execution_count": null,
   "metadata": {},
   "outputs": [],
   "source": [
    "Exercise 15: List Comprehension\n",
    "● Create a list of numbers from 1 to 10.\n",
    "● Use list comprehension to create a new list that contains the squares of these numbers.\n",
    "● Print the new list."
   ]
  },
  {
   "cell_type": "code",
   "execution_count": null,
   "metadata": {},
   "outputs": [],
   "source": [
    "list=[1,2,3,4,5,6,7,8,9,10]\n",
    "list_squared= [i**2 for i in list]\n",
    "print(list_squared)"
   ]
  },
  {
   "cell_type": "code",
   "execution_count": null,
   "metadata": {},
   "outputs": [],
   "source": [
    "Exercise 16: Nested Data Structures\n",
    "● Create a dictionary where the keys are names of students and the values are lists of their grades.\n",
    "● Write a function that takes the dictionary and prints the average grade for each student."
   ]
  },
  {
   "cell_type": "code",
   "execution_count": null,
   "metadata": {},
   "outputs": [],
   "source": [
    "dic = {\n",
    "'Benny': [10, 9, 10, 8.5],\n",
    "'Niklas': [6, 9, 5, 9],\n",
    "'Kewitsch': [7.8, 9, 10, 8]\n",
    "}\n",
    "print(dic)\n",
    "\n",
    "def avg(dic):\n",
    "    for student in dic.keys():\n",
    "        grades = dic[student]  \n",
    "        average = sum(grades) / len(grades)  \n",
    "        print(f\"Average grade for {student}: {average:.2f}\")  \n",
    "\n",
    "avg(dic)"
   ]
  },
  {
   "cell_type": "code",
   "execution_count": null,
   "metadata": {},
   "outputs": [],
   "source": [
    "Exercise 17: Simple Calculator\n",
    "● Write a program that:\n",
    "○ Defines a function calculate which takes three parameters: two numbers and an operator (+, -, *, /).\n",
    "○ Performs the operation and returns the result.\n",
    "○ Ask the user for the two numbers and the operator, then call the function and print the result."
   ]
  },
  {
   "cell_type": "code",
   "execution_count": null,
   "metadata": {},
   "outputs": [],
   "source": [
    "def operation(a,b,c):\n",
    "    if c == '+':\n",
    "        result = a + b\n",
    "    elif c == '-':\n",
    "        result = a - b\n",
    "    elif c == '*':\n",
    "        result = a * b\n",
    "    elif c == '/':\n",
    "        if b != 0:\n",
    "            result = a / b\n",
    "        else:\n",
    "            return \"Error: Division by zero.\"\n",
    "    \n",
    "    return result\n",
    "\n",
    "\n",
    "\n",
    "a = float(input(\"Please prodive the first number: \"))\n",
    "b = float(input(\"Please prodive the second number: \"))\n",
    "c = input (\"Please prodive the operator you want to perform (+,-,*,/): \")\n",
    "\n",
    "print(operation(a,b,c))\n",
    "\n"
   ]
  },
  {
   "cell_type": "code",
   "execution_count": null,
   "metadata": {},
   "outputs": [],
   "source": []
  }
 ],
 "metadata": {
  "kernelspec": {
   "display_name": "Python 3",
   "language": "python",
   "name": "python3"
  },
  "language_info": {
   "codemirror_mode": {
    "name": "ipython",
    "version": 3
   },
   "file_extension": ".py",
   "mimetype": "text/x-python",
   "name": "python",
   "nbconvert_exporter": "python",
   "pygments_lexer": "ipython3",
   "version": "3.8.3"
  }
 },
 "nbformat": 4,
 "nbformat_minor": 4
}
