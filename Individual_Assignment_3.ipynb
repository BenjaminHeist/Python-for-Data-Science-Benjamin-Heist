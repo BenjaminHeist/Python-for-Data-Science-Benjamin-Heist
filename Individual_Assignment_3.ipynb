{
  "cells": [
    {
      "cell_type": "markdown",
      "id": "24b98369-c7ba-450b-a8b5-e34319000695",
      "metadata": {
        "editable": true,
        "id": "24b98369-c7ba-450b-a8b5-e34319000695",
        "tags": []
      },
      "source": [
        "# Python for Data Science\n",
        "## Session 3\n",
        "### Object Oriented Programming"
      ]
    },
    {
      "cell_type": "markdown",
      "id": "3ace1343-d73d-466d-aa07-56febbb7cbf1",
      "metadata": {
        "editable": true,
        "id": "3ace1343-d73d-466d-aa07-56febbb7cbf1",
        "tags": []
      },
      "source": [
        "---"
      ]
    },
    {
      "cell_type": "markdown",
      "id": "c5ffee69-5d4d-4f1c-9ed7-083afbc931ec",
      "metadata": {
        "editable": true,
        "id": "c5ffee69-5d4d-4f1c-9ed7-083afbc931ec",
        "tags": []
      },
      "source": [
        "## Outline\n",
        "1. Classes and objects\n",
        "2. Abstraction and Inheritance\n",
        "3. Polymorphism and Encapsulation"
      ]
    },
    {
      "cell_type": "markdown",
      "id": "aba315f4-e9bf-4a66-b3d3-593037c3ca70",
      "metadata": {
        "editable": true,
        "id": "aba315f4-e9bf-4a66-b3d3-593037c3ca70",
        "tags": []
      },
      "source": [
        "---"
      ]
    },
    {
      "cell_type": "markdown",
      "id": "8ed45dcb-2cf5-4bfa-ba6e-5da25c59757c",
      "metadata": {
        "editable": true,
        "id": "8ed45dcb-2cf5-4bfa-ba6e-5da25c59757c",
        "tags": []
      },
      "source": [
        "## Object Oriented programming\n",
        "\n",
        "In Data science there are three different types of programming paradigms:\n",
        "\n",
        "1. **Object-oriented programming** organizes code using objects that represent real-world entities. It provides modularity, code reuse and abstraction, making it suitable for handling large and complex applications.\n",
        "\n",
        "2. **Functional programming** emphasizes the use of **pure functions** that can be easily composed and reused, ideal for transforming data.\n",
        "\n",
        "3. **Declarative programming** consists in specifyin what the program should accomplish, rather than how to accomplish it.\n",
        "\n"
      ]
    },
    {
      "cell_type": "markdown",
      "id": "42f9f227-0941-4967-9a4b-c282bb0e4cfc",
      "metadata": {
        "editable": true,
        "id": "42f9f227-0941-4967-9a4b-c282bb0e4cfc",
        "tags": []
      },
      "source": [
        "**Pure functions** are functions that always produce the same output for the same input and haven't got any side effects, meaning it does not modify external states or variables."
      ]
    },
    {
      "cell_type": "markdown",
      "id": "00b01ced-eda7-423f-8522-96bd3f1a4125",
      "metadata": {
        "editable": true,
        "id": "00b01ced-eda7-423f-8522-96bd3f1a4125",
        "tags": []
      },
      "source": [
        "---"
      ]
    },
    {
      "cell_type": "markdown",
      "id": "9434c993-aac1-4655-bf69-477b9dc5d2ee",
      "metadata": {
        "editable": true,
        "id": "9434c993-aac1-4655-bf69-477b9dc5d2ee",
        "tags": []
      },
      "source": [
        "## Object Oriented programming\n",
        "\n",
        "OOP main concepts are:\n",
        "\n",
        "1. **Class**: A template to create objects.\n",
        "2. **Object**: An instance of a class, representing a specific entity.\n",
        "3. **Attributes**: Properties of an object (variables within a class that define it).\n",
        "4. **Methods**: Actions that objects can perform (functions within a class)."
      ]
    },
    {
      "cell_type": "code",
      "execution_count": 79,
      "id": "1e350f15-ae19-4323-a1c6-25d80118a5f3",
      "metadata": {
        "editable": true,
        "id": "1e350f15-ae19-4323-a1c6-25d80118a5f3",
        "tags": []
      },
      "outputs": [],
      "source": [
        "class Pet:\n",
        "    pass  # Empty class as a placeholder"
      ]
    },
    {
      "cell_type": "code",
      "execution_count": 80,
      "id": "2e427c6d-a0fc-47de-a6e8-de71ae500619",
      "metadata": {
        "editable": true,
        "id": "2e427c6d-a0fc-47de-a6e8-de71ae500619",
        "tags": []
      },
      "outputs": [],
      "source": [
        "my_pet = Pet() # Instance of a class"
      ]
    },
    {
      "cell_type": "code",
      "execution_count": 81,
      "id": "1cda9d57-aedb-4e70-af5b-7193174a2430",
      "metadata": {
        "editable": true,
        "id": "1cda9d57-aedb-4e70-af5b-7193174a2430",
        "tags": []
      },
      "outputs": [],
      "source": [
        "# Note: self refers to the instance of the class and is used to access its attributes and methods\n",
        "class Pet:\n",
        "    def __init__(self, name): # constructor\n",
        "        self.name = name"
      ]
    },
    {
      "cell_type": "code",
      "execution_count": 82,
      "id": "c4f13ca9-dd0a-4b53-8f30-5a507979b1ed",
      "metadata": {
        "editable": true,
        "id": "c4f13ca9-dd0a-4b53-8f30-5a507979b1ed",
        "tags": []
      },
      "outputs": [],
      "source": [
        "class Pet:\n",
        "    def __init__(self, name): # constructor\n",
        "        self.name = name # Instance attribute\n",
        "        self.age = None # Instance attribute set to None\n",
        "\n",
        "    def set_age(self, age): # Method\n",
        "        self.age = age"
      ]
    },
    {
      "cell_type": "code",
      "execution_count": 83,
      "id": "241e1ca3",
      "metadata": {},
      "outputs": [
        {
          "name": "stdout",
          "output_type": "stream",
          "text": [
            "Rock\n"
          ]
        }
      ],
      "source": [
        "my_pet=Pet(\"Rock\")\n",
        "print(my_pet.name)"
      ]
    },
    {
      "cell_type": "code",
      "execution_count": 84,
      "id": "7f3f44cc",
      "metadata": {},
      "outputs": [
        {
          "name": "stdout",
          "output_type": "stream",
          "text": [
            "None\n"
          ]
        }
      ],
      "source": [
        "print(my_pet.age)"
      ]
    },
    {
      "cell_type": "code",
      "execution_count": 85,
      "id": "7beadeda",
      "metadata": {},
      "outputs": [
        {
          "name": "stdout",
          "output_type": "stream",
          "text": [
            "4\n"
          ]
        }
      ],
      "source": [
        "my_pet.set_age(4)\n",
        "print(my_pet.age)"
      ]
    },
    {
      "cell_type": "markdown",
      "id": "92887f1e-c2b9-4abc-9324-af4c15250c3a",
      "metadata": {
        "editable": true,
        "id": "92887f1e-c2b9-4abc-9324-af4c15250c3a",
        "tags": []
      },
      "source": [
        "---"
      ]
    },
    {
      "cell_type": "markdown",
      "id": "d6c81e01-e268-4490-b970-b9f3d7a08d30",
      "metadata": {
        "editable": true,
        "id": "d6c81e01-e268-4490-b970-b9f3d7a08d30",
        "tags": []
      },
      "source": [
        "## Object Oriented programming\n",
        "### Abstraction\n",
        "\n",
        "Abstraction consists in hiding any variables and internal parts of an object that don’t need to be shown during interaction. Making only available the essential functionalities.\n",
        "\n",
        "You may want to call a method from an object that searches for something in an internal list, and in this case, you don't need to see the algorithm behind it, you just need to call the method and get what you want."
      ]
    },
    {
      "cell_type": "markdown",
      "id": "23e1e6b4-322a-4cd5-8a82-72877cc98804",
      "metadata": {
        "editable": true,
        "id": "23e1e6b4-322a-4cd5-8a82-72877cc98804",
        "tags": []
      },
      "source": [
        "## Object Oriented programming\n",
        "### Inheritance\n",
        "\n",
        "Inheritance permits any class to inherit attributes and methods from another class. This reduces code duplication and enables the creation of specialized classes based on general ones."
      ]
    },
    {
      "cell_type": "code",
      "execution_count": 86,
      "id": "76c58110-a965-432f-8dcf-f457079fec65",
      "metadata": {
        "editable": true,
        "id": "76c58110-a965-432f-8dcf-f457079fec65",
        "tags": []
      },
      "outputs": [],
      "source": [
        "class Pet:\n",
        "    def __init__(self, age, name): # Constructor\n",
        "        self.age = age # Attribute\n",
        "        self.name = name # Attribute\n",
        "\n",
        "    def describe(self): # Method\n",
        "        print(f\"This pet's name is {self.name}.\")\n",
        "\n",
        "class Dog(Pet):\n",
        "    def __init__(self, age, name, breed): # Constructor\n",
        "        super().__init__(age, name)  # Call the parent class's __init__ method\n",
        "        self.breed = breed # New attribute for this specialized class\n",
        "\n",
        "    def describe(self):\n",
        "        super().describe()  # Call the parent class's describe method\n",
        "        print(f\"This dog is {self.age} years old and is a {self.breed}.\")"
      ]
    },
    {
      "cell_type": "code",
      "execution_count": 87,
      "id": "48301f74-ece3-49ec-9332-2c168743ebc8",
      "metadata": {
        "editable": true,
        "id": "48301f74-ece3-49ec-9332-2c168743ebc8",
        "tags": []
      },
      "outputs": [],
      "source": [
        "my_dog = Dog(3, 'Rock', 'Great Dane')"
      ]
    },
    {
      "cell_type": "code",
      "execution_count": 88,
      "id": "6a72f09a",
      "metadata": {},
      "outputs": [
        {
          "data": {
            "text/plain": [
              "3"
            ]
          },
          "execution_count": 88,
          "metadata": {},
          "output_type": "execute_result"
        }
      ],
      "source": [
        "my_dog.age"
      ]
    },
    {
      "cell_type": "code",
      "execution_count": 89,
      "id": "eae7678f-665a-4916-96d2-3926a312aea5",
      "metadata": {
        "editable": true,
        "id": "eae7678f-665a-4916-96d2-3926a312aea5",
        "outputId": "3abb92a2-d911-43f9-bf4b-bb7ecdaf371f",
        "tags": []
      },
      "outputs": [
        {
          "name": "stdout",
          "output_type": "stream",
          "text": [
            "This pet's name is Rock.\n",
            "This dog is 3 years old and is a Great Dane.\n"
          ]
        }
      ],
      "source": [
        "my_dog.describe()"
      ]
    },
    {
      "cell_type": "markdown",
      "id": "220f9368-0c1a-4ac8-9785-a33b11e5df77",
      "metadata": {
        "editable": true,
        "id": "220f9368-0c1a-4ac8-9785-a33b11e5df77",
        "tags": []
      },
      "source": [
        "---"
      ]
    },
    {
      "cell_type": "markdown",
      "id": "88ff8053-d1d0-4c08-b8e5-6c84e94c4f24",
      "metadata": {
        "editable": true,
        "id": "88ff8053-d1d0-4c08-b8e5-6c84e94c4f24",
        "tags": []
      },
      "source": [
        "## Object Oriented programming\n",
        "### Polymorphism\n",
        "\n",
        "It allows the same method name to behave differently based on the object calling it, which can be achieved through method overriding."
      ]
    },
    {
      "cell_type": "code",
      "execution_count": 90,
      "id": "db4cd9e2-0188-4511-a81b-070221d74af5",
      "metadata": {
        "editable": true,
        "id": "db4cd9e2-0188-4511-a81b-070221d74af5",
        "tags": []
      },
      "outputs": [],
      "source": [
        "class Cat(Pet):\n",
        "    def __init__(self, age, name, breed): # Constructor\n",
        "        super().__init__(age, name)  # Call the parent class's __init__ method\n",
        "        self.breed = breed # New attribute for this specialized class\n",
        "\n",
        "    def describe(self): # Method\n",
        "        print(f\"This super cat is {self.age} years old and is a {self.breed}.\")"
      ]
    },
    {
      "cell_type": "code",
      "execution_count": 91,
      "id": "ced1143b-98db-46db-8e90-fed185aad835",
      "metadata": {
        "editable": true,
        "id": "ced1143b-98db-46db-8e90-fed185aad835",
        "outputId": "3c3d99c3-5191-40d9-a25c-9d4516c6ca93",
        "tags": []
      },
      "outputs": [
        {
          "name": "stdout",
          "output_type": "stream",
          "text": [
            "This super cat is 7 years old and is a Siamese.\n"
          ]
        }
      ],
      "source": [
        "my_cat = Cat(7, 'Bella', 'Siamese')\n",
        "my_cat.describe()"
      ]
    },
    {
      "cell_type": "markdown",
      "id": "cd327548-f048-4d39-9b72-6dff6cd6963d",
      "metadata": {
        "editable": true,
        "id": "cd327548-f048-4d39-9b72-6dff6cd6963d",
        "tags": []
      },
      "source": [
        "---"
      ]
    },
    {
      "cell_type": "markdown",
      "id": "854b31bb-2b21-42fd-939a-f82f71a549f0",
      "metadata": {
        "editable": true,
        "id": "854b31bb-2b21-42fd-939a-f82f71a549f0",
        "tags": []
      },
      "source": [
        "## Object Oriented programming\n",
        "### Encapsulation\n",
        "\n",
        "It consists in restricting access to variables and methods outside the object. This way we ensure the integrity of the data within the object.\n",
        "\n",
        "In python, prefixing a variable or method name with an underscore **_** indicates that it is intended for internal use only, while a double underscore **__** modifies the variable name for better encapsulation.\n",
        "\n",
        "It is worth mentioning that this is a convention, and variables and methods are still accessible."
      ]
    },
    {
      "cell_type": "code",
      "execution_count": 92,
      "id": "33e1bdf2-8798-41f1-9ed3-957c730dc9ad",
      "metadata": {
        "editable": true,
        "id": "33e1bdf2-8798-41f1-9ed3-957c730dc9ad",
        "tags": []
      },
      "outputs": [],
      "source": [
        "class Student:\n",
        "    def __init__(self, name, age, address=None):\n",
        "        self.name = name # Public attribute\n",
        "        self._age =   age # Private attribute\n",
        "        self._address = address  # Private attribute\n",
        "\n",
        "    def get_address(self): # Method\n",
        "        return self._address\n",
        "\n",
        "    def set_address(self, address): # Method\n",
        "        address = ''.join(filter(self._remove_special_characters, address))\n",
        "        self._address = address\n",
        "\n",
        "    def _remove_special_characters(self, character): # Private method\n",
        "        if character.isalnum() or character == ' ' or character == '-':\n",
        "            return True\n",
        "        else:\n",
        "            return False\n"
      ]
    },
    {
      "cell_type": "code",
      "execution_count": 93,
      "id": "a4e46c71-63e9-474e-91a6-9d9a323636dc",
      "metadata": {
        "editable": true,
        "id": "a4e46c71-63e9-474e-91a6-9d9a323636dc",
        "outputId": "f3fdcc29-3661-46e6-e645-397a94c9874c",
        "tags": []
      },
      "outputs": [
        {
          "name": "stdout",
          "output_type": "stream",
          "text": [
            "The student named Joan has the following address: Avinguda Buenos Aires nº 31 7e-1a\n"
          ]
        }
      ],
      "source": [
        "student = Student(\"Joan\", 24)\n",
        "student.set_address(\"Avinguda Buenos Aires nº 31! 7e-1a\")\n",
        "print(f\"The student named {student.name} has the following address: {student.get_address()}\")"
      ]
    },
    {
      "cell_type": "markdown",
      "id": "f4552012-e0e9-40af-8801-69d83733d433",
      "metadata": {
        "editable": true,
        "id": "f4552012-e0e9-40af-8801-69d83733d433",
        "tags": []
      },
      "source": [
        "---"
      ]
    },
    {
      "cell_type": "markdown",
      "id": "42f8be9a-cc71-4a58-97ac-1a54219a2d72",
      "metadata": {
        "editable": true,
        "id": "42f8be9a-cc71-4a58-97ac-1a54219a2d72",
        "tags": []
      },
      "source": [
        "## Object Oriented programming\n",
        "### Hands on\n",
        "\n",
        "Let's design a course registration system, where the requirements will be:\n",
        "\n",
        "1. Create a **Course** class, where each course has a name, a description and a list of enrolled students. You'll need to implement the next methods:\n",
        "    - Add a student to the course.\n",
        "    - Remove a student from the course.\n",
        "    - Show all students in the course."
      ]
    },
    {
      "cell_type": "code",
      "execution_count": 94,
      "id": "e5430dcf-a01a-4ea1-aff8-5bad4531ab1e",
      "metadata": {
        "editable": true,
        "id": "e5430dcf-a01a-4ea1-aff8-5bad4531ab1e",
        "tags": []
      },
      "outputs": [],
      "source": [
        "class Course:\n",
        "    \n",
        "    def __init__(self, name, description):\n",
        "        self.name = name\n",
        "        self.description = description\n",
        "        self.students = []\n",
        "        \n",
        "    #add a student     \n",
        "    def add_student(self, student):\n",
        "        self.students.append(student)\n",
        "    \n",
        "        #remove a student \n",
        "    def remove_student(self, student):\n",
        "        self.students.remove(student)\n",
        "    \n",
        "    #show all students in the course     \n",
        "    def show_students(self):\n",
        "        print(self.students)\n",
        "    \n",
        "    #show all course information\n",
        "    def show_self(self):\n",
        "        print(f\"Course: {self.name} , {self.description}\")"
      ]
    },
    {
      "cell_type": "code",
      "execution_count": 95,
      "id": "64fa1a31",
      "metadata": {},
      "outputs": [
        {
          "name": "stdout",
          "output_type": "stream",
          "text": [
            "['Timon', 'Benny']\n"
          ]
        }
      ],
      "source": [
        "#example course\n",
        "python_course= Course('Python', 'In this course you will learn the basics of Python')\n",
        "\n",
        "#adding/removing stundet names as strings \n",
        "python_course.add_student('Timon')\n",
        "python_course.add_student('Henning')\n",
        "python_course.add_student('Benny')\n",
        "python_course.remove_student('Henning')\n",
        "\n",
        "#showing all students enrolled in a specific course \n",
        "python_course.show_students()"
      ]
    },
    {
      "cell_type": "markdown",
      "id": "16cc578c-9fe3-4478-81da-3071e3adb318",
      "metadata": {
        "editable": true,
        "id": "16cc578c-9fe3-4478-81da-3071e3adb318",
        "tags": []
      },
      "source": [
        "## Object Oriented programming\n",
        "### Hands on\n",
        "\n",
        "2. Create a **Student** class, where each student has a name, ID number, address and a list of enrolled courses with the following methods:\n",
        "    - Enroll in a course.\n",
        "    - Drop a course.\n",
        "    - Show all registered student courses."
      ]
    },
    {
      "cell_type": "code",
      "execution_count": 96,
      "id": "fe4cce31-1ddf-4847-bc8d-924dc3e0dfe1",
      "metadata": {
        "editable": true,
        "id": "fe4cce31-1ddf-4847-bc8d-924dc3e0dfe1",
        "tags": []
      },
      "outputs": [],
      "source": [
        "class Student:\n",
        "  \n",
        "    def __init__(self, name, student_id, address):\n",
        "        self.name=name\n",
        "        self.student_id=student_id\n",
        "        self.address=address\n",
        "        self.courses = []\n",
        "    \n",
        "    #enroll in a course\n",
        "    def enroll_course(self,course):\n",
        "        self.courses.append(course)\n",
        "    \n",
        "    #drop a course\n",
        "    def drop_course(self,course):\n",
        "        self.courses.remove(course)\n",
        "    \n",
        "    #show all registered student courses \n",
        "    def show_courses(self):\n",
        "        for c in self.courses:\n",
        "            print(c.name,',', c.description)\n",
        "    \n",
        "    #show all of students' information\n",
        "    def show_self(self):\n",
        "        print(f\"Student: {self.name} , {self.student_id}, {self.address}\")"
      ]
    },
    {
      "cell_type": "code",
      "execution_count": 97,
      "id": "15dd73e2",
      "metadata": {},
      "outputs": [
        {
          "name": "stdout",
          "output_type": "stream",
          "text": [
            "Python , Basics of Python\n",
            "AI , Basics of Artificial Intelligence\n"
          ]
        }
      ],
      "source": [
        "#example courses        \n",
        "python_course = Course('Python', 'Basics of Python')       \n",
        "cc_course = Course('CC', 'Basics of Cloud Computing') \n",
        "ai_course = Course('AI','Basics of Artificial Intelligence')\n",
        "\n",
        "#example student\n",
        "student1 = Student('Benny',791223,'Via Laietana 41')\n",
        "\n",
        "#enrolling and dropping student from/in course\n",
        "student1.enroll_course(python_course)\n",
        "student1.enroll_course(cc_course)\n",
        "student1.enroll_course(ai_course)\n",
        "student1.drop_course(cc_course)\n",
        "\n",
        "#displaying the student's courses\n",
        "student1.show_courses()"
      ]
    },
    {
      "cell_type": "markdown",
      "id": "5c54b2fe-691f-4520-b8d6-2515ba92b808",
      "metadata": {
        "editable": true,
        "id": "5c54b2fe-691f-4520-b8d6-2515ba92b808",
        "tags": []
      },
      "source": [
        "## Object Oriented programming\n",
        "### Hands on\n",
        "\n",
        "3. Create a central class that manages courses and students, **Registration** class, where you have a list of students and a list of courses, and methods:\n",
        "    - Enroll in a course.\n",
        "    - Drop a course.\n",
        "    - Show all the enrolled courses.\n",
        "    - Show all the students."
      ]
    },
    {
      "cell_type": "code",
      "execution_count": 98,
      "id": "4031cb1e",
      "metadata": {},
      "outputs": [],
      "source": [
        "class Registration:\n",
        "    def __init__(self):\n",
        "        self.students = []  # Instance variable for storing students\n",
        "        self.courses = []   # Instance variable for storing courses\n",
        "    \n",
        "    # Add a new course to the system\n",
        "    def add_course(self, course):\n",
        "        if course not in self.courses:\n",
        "            self.courses.append(course)\n",
        "            print(f\"Course {course.name} has been added.\")\n",
        "        else:\n",
        "            print(f\"Course {course.name} is already in the system.\")\n",
        "    \n",
        "    # Add a new student to the system\n",
        "    def add_student(self, student):\n",
        "        if student not in self.students:\n",
        "            self.students.append(student)\n",
        "            print(f\"Student {student.name} has been registered.\")\n",
        "        else:\n",
        "            print(f\"Student {student.name} is already registered.\")\n",
        "    \n",
        "    # Enroll a student in a course\n",
        "    def enroll_in_course(self, student, course):\n",
        "        if student not in self.students:\n",
        "            print(f\"Student {student.name} is not registered.\")\n",
        "            return\n",
        "        if course not in self.courses:\n",
        "            print(f\"Course {course.name} is not available.\")\n",
        "            return\n",
        "        if course in student.courses:\n",
        "            print(f\"{student.name} is already enrolled in {course.name}.\")\n",
        "            return\n",
        "        \n",
        "        student.enroll_course(course)\n",
        "        print(f\"{student.name} has been enrolled in {course.name}.\")\n",
        "    \n",
        "    # Drop a student from a course\n",
        "    def drop_course(self, student, course):\n",
        "        if student not in self.students:\n",
        "            print(f\"Student {student.name} is not registered.\")\n",
        "            return\n",
        "        if course not in student.courses:\n",
        "            print(f\"{student.name} is not enrolled in {course.name}.\")\n",
        "            return\n",
        "        \n",
        "        student.drop_course(course)\n",
        "        print(f\"{student.name} has been dropped from {course.name}.\")\n",
        "    \n",
        "    # Show all students in the system\n",
        "    def show_students(self):\n",
        "        if not self.students:\n",
        "            print(\"No students registered.\")\n",
        "        else:\n",
        "            print(\"All registered students:\")\n",
        "            for student in self.students:\n",
        "                student.show_self()\n",
        "\n",
        "    # Show all courses in the system\n",
        "    def show_courses(self):\n",
        "        if not self.courses:\n",
        "            print(\"No courses available.\")\n",
        "        else:\n",
        "            print(\"All available courses:\")\n",
        "            for course in self.courses:\n",
        "                course.show_self()\n",
        "                \n",
        "    # Show all courses a specific student is enrolled in\n",
        "    def show_student_courses(self, student):\n",
        "        if student not in self.students:\n",
        "            print(f\"Student {student.name} is not registered.\")\n",
        "            return\n",
        "        if not student.courses:\n",
        "            print(f\"{student.name} is not enrolled in any courses.\")\n",
        "        else:\n",
        "            print(f\"{student.name} is enrolled in the following courses:\")\n",
        "            for course in student.courses:\n",
        "                print(f\"- {course.name}\")\n",
        " \n",
        " # Show all students enrolled in a specific course\n",
        "    def show_students_in_course(self, course):\n",
        "        if course not in self.courses:\n",
        "            print(f\"Course {course.name} is not available.\")\n",
        "            return\n",
        "        enrolled_students = [student for student in self.students if course in student.courses]\n",
        "        if not enrolled_students:\n",
        "            print(f\"No students are enrolled in {course.name}.\")\n",
        "        else:\n",
        "            print(f\"Students enrolled in {course.name}:\")\n",
        "            for student in enrolled_students:\n",
        "                student.show_self()\n",
        " "
      ]
    },
    {
      "cell_type": "code",
      "execution_count": 99,
      "id": "2b86cd06",
      "metadata": {},
      "outputs": [
        {
          "name": "stdout",
          "output_type": "stream",
          "text": [
            "Student Benny has been registered.\n",
            "Student Henning has been registered.\n",
            "Student Kewitsch has been registered.\n",
            "Course AI has been added.\n",
            "Course CC has been added.\n",
            "Course Python has been added.\n",
            "All available courses:\n",
            "Course: AI , In this course we will cover LLMs and Mashine Learning\n",
            "Course: CC , This course will cover the basics of AWS\n",
            "Course: Python , Thus course will cover the foundations of Python for Data Science\n",
            "All registered students:\n",
            "Student: Benny , 7272378, Im Weingarten 7\n",
            "Student: Henning , 7212378, Hahlgartenstr. 19\n",
            "Student: Kewitsch , 1112378, WilhelmLeuchner Straße\n",
            "Benny has been enrolled in AI.\n",
            "Benny has been enrolled in CC.\n",
            "Henning has been enrolled in CC.\n",
            "Henning has been enrolled in AI.\n",
            "Henning has been enrolled in Python.\n",
            "Benny has been dropped from AI.\n",
            "Kewitsch is not enrolled in any courses.\n",
            "Benny is enrolled in the following courses:\n",
            "- CC\n",
            "Students enrolled in AI:\n",
            "Student: Henning , 7212378, Hahlgartenstr. 19\n",
            "Students enrolled in CC:\n",
            "Student: Benny , 7272378, Im Weingarten 7\n",
            "Student: Henning , 7212378, Hahlgartenstr. 19\n"
          ]
        }
      ],
      "source": [
        "#example courses               \n",
        "AI = Course('AI','In this course we will cover LLMs and Mashine Learning')\n",
        "CC = Course('CC','This course will cover the basics of AWS')\n",
        "Python = Course('Python', 'Thus course will cover the foundations of Python for Data Science')\n",
        "\n",
        "#example students\n",
        "Benny= Student('Benny',7272378,'Im Weingarten 7')\n",
        "Henning = Student('Henning',7212378,'Hahlgartenstr. 19')\n",
        "Kewitsch = Student('Kewitsch',1112378,'WilhelmLeuchner Straße')\n",
        "\n",
        "#example registrations\n",
        "example = Registration()\n",
        "\n",
        "#adding students to the system\n",
        "example.add_student(Benny)\n",
        "example.add_student(Henning)\n",
        "example.add_student(Kewitsch)\n",
        "#adding courses to the system\n",
        "example.add_course(AI)\n",
        "example.add_course(CC)\n",
        "example.add_course(Python)\n",
        "\n",
        "#showing all courses and students in the system\n",
        "example.show_courses()\n",
        "example.show_students()\n",
        "\n",
        "#trying out enrolling and dropping students from courses\n",
        "example.enroll_in_course(Benny,AI)\n",
        "example.enroll_in_course(Benny,CC)\n",
        "example.enroll_in_course(Henning,CC)\n",
        "example.enroll_in_course(Henning,AI)\n",
        "example.enroll_in_course(Henning,Python)\n",
        "example.drop_course(Benny,AI)\n",
        "\n",
        "#displaying courses per students and students per course respectively \n",
        "example.show_student_courses(Kewitsch)\n",
        "example.show_student_courses(Benny)\n",
        "example.show_students_in_course(AI)\n",
        "example.show_students_in_course(CC)\n"
      ]
    },
    {
      "cell_type": "markdown",
      "id": "2958b01b-3472-4c95-ae1f-771edc638749",
      "metadata": {
        "editable": true,
        "id": "2958b01b-3472-4c95-ae1f-771edc638749",
        "tags": []
      },
      "source": [
        "## Object Oriented programming\n",
        "### Howework\n",
        "\n",
        "4. Let's add grades to each student's course and create method that yields the GPA given a student name or ID."
      ]
    },
    {
      "cell_type": "code",
      "execution_count": 100,
      "id": "560501df",
      "metadata": {},
      "outputs": [],
      "source": [
        "class Student:\n",
        "    \n",
        "    def __init__(self, name, student_id, address):\n",
        "        self.name=name\n",
        "        self.student_id=student_id\n",
        "        self.address=address\n",
        "        self.courses = []  # Each course as [course, grade]\n",
        "\n",
        "    \n",
        "    def enroll_course(self,course):\n",
        "        self.courses.append([course,1]) #default grade\n",
        "        \n",
        "    def drop_course(self,course):\n",
        "        for c in self.courses:\n",
        "            if c[0] == course:\n",
        "                toRemove = c\n",
        "        self.courses.remove(toRemove)\n",
        "    \n",
        "    def set_grade(self,course, grade):\n",
        "        for c in self.courses:\n",
        "            if c[0] == course:\n",
        "                c[1] = grade # Set the grade for the course\n",
        "                \n",
        "    def get_gpa(self):\n",
        "        counter = 0\n",
        "        gpa = 0\n",
        "        for c in self.courses:\n",
        "            gpa = gpa + c[1]        #getting the total sum of grades\n",
        "            counter = counter + 1   #getting the number of courses\n",
        "        gpa = gpa / counter         #total sum of grades divided by number of courses \n",
        "        print(gpa)\n",
        "    \n",
        "    def show_courses(self):\n",
        "        for c in self.courses:\n",
        "            print(c[0].name,',', c[0].description)\n",
        "    \n",
        "    def show_self(self):\n",
        "        print(f\"Student: {self.name} , {self.student_id}, {self.address}, {self.gpa}\")\n",
        "        "
      ]
    },
    {
      "cell_type": "code",
      "execution_count": 101,
      "id": "f3a4a5f1",
      "metadata": {},
      "outputs": [
        {
          "name": "stdout",
          "output_type": "stream",
          "text": [
            "8.0\n"
          ]
        }
      ],
      "source": [
        "#example courses               \n",
        "AI = Course('AI','In this course we will cover LLMs and Mashine Learning')\n",
        "CC = Course('CC','This course will cover the basics of AWS')\n",
        "Python = Course('Python', 'Thus course will cover the foundations of Python for Data Science')\n",
        "\n",
        "#example students\n",
        "Niklas= Student('Niklas',123,'Im Weingarten 7')\n",
        "\n",
        "#enrolling in courses\n",
        "Niklas.enroll_course(AI)\n",
        "Niklas.enroll_course(CC)\n",
        "Niklas.enroll_course(Python)\n",
        "#setting the grades\n",
        "Niklas.set_grade(AI,10)\n",
        "Niklas.set_grade(CC,8)\n",
        "Niklas.set_grade(Python,6)\n",
        "#final GPA\n",
        "Niklas.get_gpa()\n",
        "\n"
      ]
    },
    {
      "cell_type": "markdown",
      "id": "76c565a9-dc30-464c-980d-d522cd5246f4",
      "metadata": {
        "editable": true,
        "id": "76c565a9-dc30-464c-980d-d522cd5246f4",
        "tags": []
      },
      "source": [
        "## That's all!"
      ]
    }
  ],
  "metadata": {
    "colab": {
      "provenance": []
    },
    "kernelspec": {
      "display_name": "Python 3 (ipykernel)",
      "language": "python",
      "name": "python3"
    },
    "language_info": {
      "codemirror_mode": {
        "name": "ipython",
        "version": 3
      },
      "file_extension": ".py",
      "mimetype": "text/x-python",
      "name": "python",
      "nbconvert_exporter": "python",
      "pygments_lexer": "ipython3",
      "version": "3.10.15"
    }
  },
  "nbformat": 4,
  "nbformat_minor": 5
}
