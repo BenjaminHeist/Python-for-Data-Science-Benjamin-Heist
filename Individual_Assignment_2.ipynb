{
 "cells": [
  {
   "cell_type": "markdown",
   "metadata": {},
   "source": [
    "Exercise 1: FizzBuzz\n",
    "1. Write a FizzBuzz Function: Create a function fizzbuzz(n) that takes an integer n as a parameter.\n",
    "2. Implement FizzBuzz Logic: The function should print:\n",
    "-   ○ \"Fizz\" for multiples of 3\n",
    "-   ○ \"Buzz\" for multiples of 5\n",
    "-   ○ \"FizzBuzz\" for multiples of both 3 and 5\n",
    "- ○ The number itself for other numbers\n",
    "3. Call the Function: Call the function for numbers 1 to 20."
   ]
  },
  {
   "cell_type": "code",
   "execution_count": 2,
   "metadata": {},
   "outputs": [
    {
     "name": "stdout",
     "output_type": "stream",
     "text": [
      "1\n",
      "None\n",
      "2\n",
      "None\n",
      "Fizz\n",
      "None\n",
      "4\n",
      "None\n",
      "Buzz\n",
      "None\n",
      "Fizz\n",
      "None\n",
      "7\n",
      "None\n",
      "8\n",
      "None\n",
      "Fizz\n",
      "None\n",
      "Buzz\n",
      "None\n",
      "11\n",
      "None\n",
      "Fizz\n",
      "None\n",
      "13\n",
      "None\n",
      "14\n",
      "None\n",
      "FizzBuzz\n",
      "None\n",
      "16\n",
      "None\n",
      "17\n",
      "None\n",
      "Fizz\n",
      "None\n",
      "19\n",
      "None\n"
     ]
    }
   ],
   "source": [
    "def FizzBuzz (n):\n",
    "    if n%3 ==0 and n%5 ==0: \n",
    "        print('FizzBuzz')\n",
    "    elif n%5 ==0: \n",
    "        print('Buzz')\n",
    "    elif n%3==0:\n",
    "        print('Fizz')\n",
    "    else:\n",
    "        print(n)\n",
    "\n",
    "for i in range(1,20):\n",
    "    print(FizzBuzz(i))"
   ]
  },
  {
   "cell_type": "markdown",
   "metadata": {},
   "source": [
    "Exercise 2: Basic Data Filtering\n",
    "1. Create a List of Mixed Data Types: Create a list that contains a mix of integers, strings, and floats.\n",
    "2. Filter the List: Use list comprehension to create a new list that contains only the integers from the original list.\n",
    "3. Print the New List: Output the filtered list of integers."
   ]
  },
  {
   "cell_type": "code",
   "execution_count": 3,
   "metadata": {},
   "outputs": [
    {
     "name": "stdout",
     "output_type": "stream",
     "text": [
      "[10, 95]\n"
     ]
    }
   ],
   "source": [
    "list_mix = [10, 2.5,'Hello',True,95]\n",
    "list_integers = [i for i in list_mix if type(i)==int]\n",
    "print(list_integers)"
   ]
  },
  {
   "cell_type": "markdown",
   "metadata": {},
   "source": [
    "Exercise 3: Simple To-Do List\n",
    "1. Create an Empty List: Start with an empty list called todo_list.\n",
    "2. Define Functions:\n",
    "- ○ A function add_task(task) that adds a task to the list.\n",
    "- ○ A function show_tasks() that prints all tasks in the list."
   ]
  },
  {
   "cell_type": "code",
   "execution_count": 4,
   "metadata": {},
   "outputs": [
    {
     "name": "stdout",
     "output_type": "stream",
     "text": [
      "['groceries', 'cleaning']\n"
     ]
    }
   ],
   "source": [
    "todo_list=[]\n",
    "def add_task(task):\n",
    "    todo_list.append(task)\n",
    "\n",
    "def show_tasks():\n",
    "    print(todo_list)\n",
    "\n",
    "add_task('groceries')\n",
    "add_task('cleaning')\n",
    "show_tasks()"
   ]
  },
  {
   "cell_type": "markdown",
   "metadata": {},
   "source": [
    "Exercise 4: Temperature Converter\n",
    "- 1. Define a Conversion Function: Write a function celsius_to_fahrenheit(celsius) that converts Celsius to Fahrenheit.\n",
    "- 2. Print the Result: Output the converted temperature for 22oF, 46oF, 51oF and 76oF."
   ]
  },
  {
   "cell_type": "code",
   "execution_count": 6,
   "metadata": {},
   "outputs": [
    {
     "name": "stdout",
     "output_type": "stream",
     "text": [
      "71.6\n",
      "114.8\n",
      "123.8\n",
      "168.8\n"
     ]
    }
   ],
   "source": [
    "def celsius_to_fahrenheit(celsius):\n",
    "    fahrenheit = (celsius * 9 / 5 )+32\n",
    "    return(fahrenheit)\n",
    "\n",
    "print(celsius_to_fahrenheit(22))\n",
    "print(celsius_to_fahrenheit(46))\n",
    "print(celsius_to_fahrenheit(51))\n",
    "print(celsius_to_fahrenheit(76))"
   ]
  }
 ],
 "metadata": {
  "kernelspec": {
   "display_name": "python_class",
   "language": "python",
   "name": "python3"
  },
  "language_info": {
   "codemirror_mode": {
    "name": "ipython",
    "version": 3
   },
   "file_extension": ".py",
   "mimetype": "text/x-python",
   "name": "python",
   "nbconvert_exporter": "python",
   "pygments_lexer": "ipython3",
   "version": "3.10.15"
  }
 },
 "nbformat": 4,
 "nbformat_minor": 2
}
